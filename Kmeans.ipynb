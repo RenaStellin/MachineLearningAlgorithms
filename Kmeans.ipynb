{
 "cells": [
  {
   "cell_type": "code",
   "execution_count": null,
   "metadata": {},
   "outputs": [],
   "source": [
    "n=int(input(\"Enter the length of the list of numbers \"))\n",
    "li=[]\n",
    "for i in range(n):\n",
    "     li.append(float(input()))\n",
    "\n",
    "a=li[0]\n",
    "b=li[1]\n",
    "c=li[2]\n",
    "def kMeans(a,b,c,li):\n",
    "    col1 = []\n",
    "    col2 = []\n",
    "    col3 = []\n",
    "    groupA = []\n",
    "    groupB = []\n",
    "    groupC = []\n",
    "    for i in range(n):\n",
    "        col1.append(abs(li[i]-a))\n",
    "        col2.append(abs(li[i]-b))\n",
    "        col3.append(abs(li[i]-c))\n",
    "        least=min(col1[i],col2[i],col3[i])\n",
    "        if least==col1[i]:\n",
    "            groupA.append(li[i])\n",
    "        elif least==col2[i]:\n",
    "            groupB.append(li[i])\n",
    "        else:\n",
    "            groupC.append(li[i])\n",
    "    aOld=a\n",
    "    bOld=b\n",
    "    cOld=c\n",
    "    aNew=mean(groupA)\n",
    "    bNew=mean(groupB)\n",
    "    cNew=mean(groupC)\n",
    "    if aNew!=aOld or bNew!=bOld or cNew!=cOld:\n",
    "        kMeans(aNew,bNew,cNew,li)\n",
    "    else:\n",
    "        print(groupA,groupB,groupC)\n",
    "       # return groupA,groupB,groupC\n",
    "def mean(lis):\n",
    "    return sum(lis)/len(lis)\n",
    "kMeans(a,b,c,li)"
   ]
  }
 ],
 "metadata": {
  "kernelspec": {
   "display_name": "Python 3",
   "language": "python",
   "name": "python3"
  },
  "language_info": {
   "codemirror_mode": {
    "name": "ipython",
    "version": 3
   },
   "file_extension": ".py",
   "mimetype": "text/x-python",
   "name": "python",
   "nbconvert_exporter": "python",
   "pygments_lexer": "ipython3",
   "version": "3.7.3"
  }
 },
 "nbformat": 4,
 "nbformat_minor": 2
}
